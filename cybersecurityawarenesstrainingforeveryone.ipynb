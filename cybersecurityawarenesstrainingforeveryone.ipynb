{
  "nbformat": 4,
  "nbformat_minor": 0,
  "metadata": {
    "colab": {
      "name": "cybersecurityawarenesstrainingforeveryone.ipynb",
      "provenance": [],
      "authorship_tag": "ABX9TyN1FyfMfhYatAJw3iEpGQw8",
      "include_colab_link": true
    },
    "kernelspec": {
      "name": "python3",
      "display_name": "Python 3"
    },
    "language_info": {
      "name": "python"
    }
  },
  "cells": [
    {
      "cell_type": "markdown",
      "metadata": {
        "id": "view-in-github",
        "colab_type": "text"
      },
      "source": [
        "<a href=\"https://colab.research.google.com/github/clearnandtrain/cybersecurityintro/blob/main/cybersecurityawarenesstrainingforeveryone.ipynb\" target=\"_parent\"><img src=\"https://colab.research.google.com/assets/colab-badge.svg\" alt=\"Open In Colab\"/></a>"
      ]
    },
    {
      "cell_type": "markdown",
      "metadata": {
        "id": "tGPkpfzkd8qL"
      },
      "source": [
        "# Cyber Security for Everyone\n",
        "## *Learning the fundamentals through curated content and interactive stories*"
      ]
    },
    {
      "cell_type": "code",
      "metadata": {
        "id": "f5NqEac_ee8-"
      },
      "source": [
        ""
      ],
      "execution_count": null,
      "outputs": []
    }
  ]
}